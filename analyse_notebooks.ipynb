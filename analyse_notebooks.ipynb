{
 "cells": [
  {
   "cell_type": "code",
   "execution_count": 22,
   "metadata": {},
   "outputs": [],
   "source": [
    "\n",
    "import datetime\n",
    "import time\n",
    "from tqdm import tqdm\n",
    "import requests\n",
    "\n",
    "from github import Github\n",
    "from github.GithubException import RateLimitExceededException\n"
   ]
  },
  {
   "cell_type": "code",
   "execution_count": 27,
   "metadata": {},
   "outputs": [],
   "source": [
    "\n",
    "def search_github(auth: Github) -> list:\n",
    "\n",
    "    print('Searching GitHub for repositories with ipynb')\n",
    "\n",
    "    query = 'language:Jupyter Notebook'\n",
    "    results = auth.search_repositories(query, 'stars', 'desc')\n",
    "\n",
    "    print(f'Found {results.totalCount} repo(s)')\n",
    "\n",
    "    results_list = []\n",
    "    for repo in tqdm(range(0, min(100, results.totalCount))):\n",
    "        try:\n",
    "            results_list.append([results[repo].name, results[repo].url, results[repo].watchers_count, len(requests.get(results[repo].contributors_url).json())])\n",
    "            time.sleep(2)\n",
    "        except RateLimitExceededException:\n",
    "            time.sleep(60)\n",
    "            results_list.append([results[repo].name, results[repo].url, results[repo].description])\n",
    "\n",
    "    return results_list"
   ]
  },
  {
   "cell_type": "markdown",
   "metadata": {},
   "source": [
    "If you want to download new data insert your token"
   ]
  },
  {
   "cell_type": "code",
   "execution_count": 40,
   "metadata": {},
   "outputs": [],
   "source": [
    "token = \"\""
   ]
  },
  {
   "cell_type": "code",
   "execution_count": 28,
   "metadata": {},
   "outputs": [
    {
     "name": "stdout",
     "output_type": "stream",
     "text": [
      "Searching GitHub for repositories with ipynb\n",
      "Found 1000 repo(s)\n"
     ]
    },
    {
     "name": "stderr",
     "output_type": "stream",
     "text": [
      "100%|██████████| 100/100 [03:54<00:00,  2.34s/it]"
     ]
    },
    {
     "name": "stdout",
     "output_type": "stream",
     "text": [
      "Writing search results to: results.txt\n"
     ]
    },
    {
     "name": "stderr",
     "output_type": "stream",
     "text": [
      "\n"
     ]
    }
   ],
   "source": [
    "# search repositories on GitHub\n",
    "auth = Github(token)\n",
    "github_results = search_github(auth)\n",
    "filename = 'results.txt'\n",
    "# write out results\n",
    "timestamp = datetime.datetime.now()\n",
    "\n",
    "print('Writing search results to: {}'.format(filename))\n",
    "with open(filename, 'w') as f_out:\n",
    "    for res in github_results:\n",
    "        f_out.write(str(res[0]) + '\\t' + str(res[1]) + '\\t' + str(res[2]) + '\\t' + str(res[3]) + '\\n')\n",
    "\n",
    "f_out.close()   "
   ]
  },
  {
   "cell_type": "code",
   "execution_count": 31,
   "metadata": {},
   "outputs": [],
   "source": [
    "import matplotlib.pyplot as plt"
   ]
  },
  {
   "cell_type": "code",
   "execution_count": 41,
   "metadata": {},
   "outputs": [
    {
     "data": {
      "image/png": "[encoded data removed]",
      "text/plain": [
       "<Figure size 640x480 with 1 Axes>"
      ]
     },
     "metadata": {},
     "output_type": "display_data"
    }
   ],
   "source": [
    "x = []\n",
    "y = []\n",
    "\n",
    "with open('results.txt') as f:\n",
    "    lines = f.readlines()\n",
    "    for line in lines:\n",
    "        splitted = line.split() \n",
    "        x.append(int(splitted[2]))\n",
    "        y.append(int(splitted[3]))\n",
    "\n",
    "xs, ys = zip(*sorted(zip(x, y)))\n",
    "\n",
    "plt.plot(xs,ys, '.')\n",
    "plt.xlabel('Stars')\n",
    "plt.ylabel('Contributors')\n",
    "plt.show()\n"
   ]
  }
 ],
 "metadata": {
  "kernelspec": {
   "display_name": "Python 3.10.8 ('myenv')",
   "language": "python",
   "name": "python3"
  },
  "language_info": {
   "codemirror_mode": {
    "name": "ipython",
    "version": 3
   },
   "file_extension": ".py",
   "mimetype": "text/x-python",
   "name": "python",
   "nbconvert_exporter": "python",
   "pygments_lexer": "ipython3",
   "version": "3.10.8"
  },
  "orig_nbformat": 4,
  "vscode": {
   "interpreter": {
    "hash": "eb22198a88f2454d018c7be4fba0cff9b35b1eddd35978b86bbb0f4663441af1"
   }
  }
 },
 "nbformat": 4,
 "nbformat_minor": 2
}
